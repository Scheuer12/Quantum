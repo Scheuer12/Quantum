{
 "cells": [
  {
   "cell_type": "code",
   "execution_count": null,
   "id": "65000d06",
   "metadata": {},
   "outputs": [],
   "source": [
    "import assets as at\n",
    "import time\n",
    "\n",
    "user_data = at.load_user_data()"
   ]
  },
  {
   "cell_type": "code",
   "execution_count": null,
   "id": "46aa4b04",
   "metadata": {},
   "outputs": [],
   "source": [
    "def produce_protons():\n",
    "    protons_by_source = []\n",
    "    protons_by_tick = 0"
   ]
  }
 ],
 "metadata": {
  "language_info": {
   "name": "python"
  }
 },
 "nbformat": 4,
 "nbformat_minor": 5
}
