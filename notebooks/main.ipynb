{
 "cells": [
  {
   "cell_type": "code",
   "execution_count": null,
   "id": "4627421f",
   "metadata": {},
   "outputs": [
    {
     "name": "stdout",
     "output_type": "stream",
     "text": [
      "You're fibnally here. Let's get started, shall we?\n",
      "Loading reality...\n",
      " \n",
      "\n",
      "You open your eyes. What was that? Were you dreaming? It seemed a lifetime!\n",
      "You get up from the chair with some kind of sensors over it - even though you can't remember why you sat there in the first place. Nothing of that makes sense.\n",
      "You feel the letter you received the day before laying in your pocket.\n",
      "You take it out and read it again.\n",
      "It says: \n",
      "Saint Olga Street, 13\n",
      "Room 3\n",
      "You check the GPS in your phone. You are in the right place.\n",
      "In the other side of the room, you see a glowing panel. Over it, lays a blue button.\n",
      "Will you resist the urge to test it?\n",
      "You press the button. The panel lights up.\n",
      "Sponsors Satisfaction: 1%\n",
      "Hydrogen Atoms: 84 \n",
      "\n",
      "Substances available:\n",
      "Water: H2O - 6 molecules\n",
      "Hydrogen: H2 - 0 molecules\n",
      "Methane: CH4 - 0 molecules\n",
      "Ammonia: NH3 - 0 molecules\n",
      "Ethanol: C2H5OH - 4 molecules\n",
      "\n",
      "Money: $2000\n"
     ]
    }
   ],
   "source": [
    "import materials_handling as mats\n",
    "import assets as at\n",
    "import time\n",
    "\n",
    "user_data = at.load_user_data()\n",
    "\n",
    "if user_data[\"total_play_time\"] == 0:\n",
    "    print(\"You're fibnally here. Let's get started, shall we?\")\n",
    "    print(\"Loading reality...\\n \\n\")\n",
    "    time.sleep(2)\n",
    "    mats.first_play_start()\n",
    "    mats.main_menu(user_data)\n",
    "else:\n",
    "    print(\"You have played for\", user_data[\"total_play_time\"], \"hours.\")\n",
    "    print(\"Your current level is\", user_data[\"level\"])\n",
    "    print(\"Your current score is\", user_data[\"score\"])\n",
    "    print(\"Your current inventory is\", user_data[\"inventory\"])\n",
    "\n",
    "\n"
   ]
  }
 ],
 "metadata": {
  "kernelspec": {
   "display_name": "Python 3",
   "language": "python",
   "name": "python3"
  },
  "language_info": {
   "codemirror_mode": {
    "name": "ipython",
    "version": 3
   },
   "file_extension": ".py",
   "mimetype": "text/x-python",
   "name": "python",
   "nbconvert_exporter": "python",
   "pygments_lexer": "ipython3",
   "version": "3.12.4"
  }
 },
 "nbformat": 4,
 "nbformat_minor": 5
}
